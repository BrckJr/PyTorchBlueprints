{
 "cells": [
  {
   "cell_type": "markdown",
   "id": "73ff93f2-f239-478a-90c9-96ee2689e733",
   "metadata": {},
   "source": [
    "## Saving a PyTorch Model ##\n",
    "Here we save a model with the name \"modelXY_trained\""
   ]
  },
  {
   "cell_type": "code",
   "execution_count": 2,
   "id": "8337e64f-95b5-43e3-8476-9017f5fe9c12",
   "metadata": {},
   "outputs": [],
   "source": [
    "import torch\n",
    "from pathlib import Path"
   ]
  },
  {
   "cell_type": "code",
   "execution_count": null,
   "id": "8cdb95cd-933b-4973-b78f-d0e7f0c49f4e",
   "metadata": {},
   "outputs": [],
   "source": [
    "# 1. Create models directory \n",
    "MODEL_PATH = Path(\"model\")\n",
    "MODEL_PATH.mkdir(parents=True, exist_ok=True)\n",
    "\n",
    "# 2. Create model save path \n",
    "MODEL_NAME = \"model_name_XY.pth\"\n",
    "MODEL_SAVE_PATH = MODEL_PATH / MODEL_NAME\n",
    "\n",
    "# 3. Save the model state dict (= dictionary of model parameters)\n",
    "print(f\"Saving model to: {MODEL_SAVE_PATH}\")\n",
    "torch.save(obj=modelXY_trained.state_dict(), f=MODEL_SAVE_PATH) \n",
    "\n",
    "# saving the state_dict() only saves the models learned parameters\n",
    "# saving the entire model could lead to problems when used in other projects"
   ]
  },
  {
   "cell_type": "code",
   "execution_count": null,
   "id": "87a2aee5-4008-4230-9805-57b08ca686bc",
   "metadata": {},
   "outputs": [],
   "source": [
    "# Check the saved file path\n",
    "!ls -l model/model_name_XY.pth"
   ]
  },
  {
   "cell_type": "markdown",
   "id": "c5164417-b034-48ae-b8f4-889d97dae46e",
   "metadata": {},
   "source": [
    "## Reloading a PyTorch Model ##"
   ]
  },
  {
   "cell_type": "code",
   "execution_count": null,
   "id": "7575a899-dfdf-4662-b0f1-ccdeb148de0e",
   "metadata": {},
   "outputs": [],
   "source": [
    "# Creating a new instance of a model class\n",
    "loaded_model = ModelClassXY()\n",
    "\n",
    "# Loading a saved state_dict() under the respective file path\n",
    "loaded_model.load_state_dict(torch.load(f=MODEL_SAVE_PATH))\n",
    "\n",
    "# Moving the imported model to the GPU\n",
    "loaded_model.to(device)"
   ]
  }
 ],
 "metadata": {
  "kernelspec": {
   "display_name": "Python 3 (ipykernel)",
   "language": "python",
   "name": "python3"
  },
  "language_info": {
   "codemirror_mode": {
    "name": "ipython",
    "version": 3
   },
   "file_extension": ".py",
   "mimetype": "text/x-python",
   "name": "python",
   "nbconvert_exporter": "python",
   "pygments_lexer": "ipython3",
   "version": "3.11.8"
  }
 },
 "nbformat": 4,
 "nbformat_minor": 5
}
